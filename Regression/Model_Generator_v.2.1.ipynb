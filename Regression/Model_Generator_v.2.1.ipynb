{
 "cells": [
  {
   "cell_type": "markdown",
   "metadata": {},
   "source": [
    "# 1. Requirments"
   ]
  },
  {
   "cell_type": "code",
   "execution_count": 1,
   "metadata": {},
   "outputs": [],
   "source": [
    "import sys\n",
    "import warnings\n",
    "\n",
    "if not sys.warnoptions:\n",
    "    warnings.simplefilter(\"ignore\")\n"
   ]
  },
  {
   "cell_type": "code",
   "execution_count": 2,
   "metadata": {},
   "outputs": [
    {
     "name": "stderr",
     "output_type": "stream",
     "text": [
      "Using TensorFlow backend.\n"
     ]
    }
   ],
   "source": [
    "#!pip install xgboost\n",
    "\n",
    "import argparse\n",
    "\n",
    "# general libraries\n",
    "import pandas as pd\n",
    "import numpy as np\n",
    "# ML libraries \n",
    "\n",
    "from sklearn.feature_selection import RFE\n",
    "from sklearn.ensemble import RandomForestClassifier,GradientBoostingClassifier,AdaBoostClassifier\n",
    "from sklearn.experimental import enable_hist_gradient_boosting  # noqa\n",
    "from sklearn.ensemble import HistGradientBoostingClassifier\n",
    "from sklearn.experimental import enable_hist_gradient_boosting  # noqa\n",
    "from sklearn.tree import DecisionTreeClassifier\n",
    "from sklearn import datasets, linear_model, preprocessing\n",
    "from sklearn.linear_model import LogisticRegression,SGDClassifier\n",
    "from sklearn.svm import LinearSVC,SVC\n",
    "from xgboost import XGBClassifier\n",
    "from sklearn.neighbors import KNeighborsClassifier\n",
    "from sklearn.metrics import precision_recall_fscore_support as score\n",
    "from sklearn.metrics import roc_curve,accuracy_score,precision_score,roc_auc_score,confusion_matrix,classification_report,f1_score, make_scorer\n",
    "from sklearn.model_selection import StratifiedShuffleSplit,train_test_split,cross_val_score,GridSearchCV,RandomizedSearchCV\n",
    "from sklearn.utils import shuffle\n",
    "\n",
    "\n",
    "# Image Libraries\n",
    "from tensorflow.keras.preprocessing.image import ImageDataGenerator\n",
    "from tensorflow.keras.preprocessing.image import img_to_array\n",
    "from tensorflow.keras.preprocessing.image import load_img\n",
    "from keras.preprocessing import image\n",
    "\n",
    "# feature engineering : Dimanssion reduction \n",
    "# 75*75 = 5,625 We are using PCA to reduce the number of features to 150\n",
    "from sklearn.decomposition import PCA\n",
    "# Jupyter Wedgets\n",
    "from ipyfilechooser import FileChooser\n",
    "# Plot libraries\n",
    "from matplotlib import pyplot as plt\n",
    "# Reporting libraries:\n",
    "import pickle\n"
   ]
  },
  {
   "cell_type": "markdown",
   "metadata": {},
   "source": [
    "# 2. Data Prepration Functions"
   ]
  },
  {
   "cell_type": "code",
   "execution_count": 4,
   "metadata": {},
   "outputs": [],
   "source": [
    "\n",
    "def isqrt(n):#function to reshape the flaten image\n",
    "    x = n\n",
    "    y = (x + 1) // 2\n",
    "    while y < x:\n",
    "        x = y\n",
    "        y = (x + n // x) // 2\n",
    "    return x\n",
    "def image_plot(NP_array): # to plot te image \n",
    "    NP_array=np.array(NP_array)#convert to numpy array\n",
    "    tem=NP_array.shape\n",
    "    \n",
    "    if len(tem)==1:\n",
    "        x=isqrt(len(NP_array)) \n",
    "        NP_array=NP_array.reshape(x,x)  \n",
    "    elif len(tem)>2:\n",
    "        NP_array=NP_array.flatten()\n",
    "        x=isqrt(len(NP_array)) \n",
    "        NP_array=NP_array.reshape(x,x)\n",
    "        print(\"Please send 2D or 1D array\")\n",
    "    plt.imshow(NP_array)\n",
    "    plt.show()    \n",
    "def read_image(IMAGE,PLOT=0): \n",
    "    \n",
    "    #img = load_img(IMAGE, target_size=(128, 128,)).convert('L') # if wanted to have 2D image in grayscale run this line\n",
    "    img = load_img(IMAGE, target_size=(64, 64,3))\n",
    "\n",
    "    img = np.array(img)\n",
    "    img=img/255\n",
    "    # plot the image\n",
    "    if PLOT ==1:\n",
    "        image_plot(img)\n",
    "    \n",
    "    flattened = img.flatten()\n",
    "    #return img\n",
    "    return flattened\n",
    "\n",
    "def Dataset_prepration(path,csv_file,IMAGE=\"train/images/\"): # read data from label and created a Dataset including flat and optimized Features\n",
    "    df=pd.read_csv(path+csv_file)\n",
    "    col=df.columns.tolist()\n",
    "    col=[x for x in df.columns.tolist() if 'Unnamed: 0' not in x]\n",
    "    df=df[col]\n",
    "    #df[\"img\"]=path+\"train/images/\"+df[\"img\"]+\".jpg\"\n",
    "    df[\"img\"]=df.apply(lambda x : image_adjustment(x['img']),axis=1)\n",
    "    \n",
    "    df=df[df[\"label\"]<3]# filtering the Cookies' images \n",
    "    Image_list=df[\"img\"].tolist()\n",
    "    data=[]\n",
    "    for i in Image_list:\n",
    "        data.append(read_image(i))\n",
    "    data=PCA_reduction(data) # optimising the features using PCA\n",
    "    return data,df\n",
    "        \n",
    "    \n",
    "def image_adjustment(x):\n",
    "    x=x.replace(\"img_\",\"\")\n",
    "    x=path+\"train/images/\"+x+\".jpg\"\n",
    "    return x\n",
    "    \n",
    "def PCA_reduction(data):\n",
    "    pca = PCA(n_components=90, svd_solver='randomized', whiten=True)\n",
    "    pca.fit(data)\n",
    "    pickle.dump(pca, open('./pca.pkl','wb')) # PCA will modle will be saved for Production model\n",
    "    components = pca.transform(data)\n",
    "    return components\n",
    "def model_reporting(report): # Analysis the report and sort the best CLF \n",
    "    Clfs=list(report.keys())\n",
    "    DF_report=pd.DataFrame(columns=([\"classifiers\",\"Model_ACC\",\"Model_validation_ACC\",\"Optimized_ACC\",\"Improvment\"]))\n",
    "\n",
    "    Data_report={}\n",
    "\n",
    "\n",
    "    for i in range(0,len(Clfs)):\n",
    "        DF_report.loc[i]=[Clfs[i],\n",
    "                          report[Clfs[i]][\"Original_model_Train_Acc\"],\n",
    "                          report[Clfs[i]][\"Original_model_Test_Acc\"],\n",
    "                          report[Clfs[i]][\"Optimized_model_Train_Acc\"],\n",
    "                          report[Clfs[i]][\"Improvement\"]\n",
    "                         ]\n",
    "    \n",
    "    DF_report=DF_report.sort_values(by=['Model_ACC','Optimized_ACC'],ascending=False)\n",
    "    DF_report.plot(x=\"classifiers\",\n",
    "                   y=['Model_ACC',\n",
    "                      'Model_validation_ACC',\n",
    "                      'Optimized_ACC'],\n",
    "                   kind=\"bar\",title=\"Model Accuracy Comparision\") \n",
    "    return DF_report\n",
    "    \n",
    "    \n",
    "    "
   ]
  },
  {
   "cell_type": "markdown",
   "metadata": {},
   "source": [
    "# 3. Model Generation/Selection and Optimization"
   ]
  },
  {
   "cell_type": "code",
   "execution_count": 5,
   "metadata": {},
   "outputs": [],
   "source": [
    "def modelling(x_train,y_train,x_test,y_test):\n",
    "    model_dic={}\n",
    "    #defining the models\n",
    "    max_f=len(x_train[0])\n",
    "    \n",
    "    Logit=LogisticRegression()\n",
    "    \n",
    "    Logit_grid = {\n",
    "         'penalty' : ['l2'],\n",
    "        'C' : [0.012742749857031334],\n",
    "        'solver' : ['liblinear']\n",
    "        }\n",
    "        \n",
    "    Logit_grid = {\n",
    "         'penalty' : ['l1', 'l2'],\n",
    "        'C' : list(np.logspace(-4, 4, 20)),\n",
    "        'solver' : ['liblinear']\n",
    "        }\n",
    "\n",
    "    SGD=SGDClassifier()\n",
    "        \n",
    "    SGD_grid = {\n",
    "        \n",
    "        \"penalty\": [\"none\", \"l1\", \"l2\"],\n",
    "        \"alpha\": [0.0001, 0.001, 0.01, 0.1, 1, 10, 100],\n",
    "        'n_jobs': [-1]    \n",
    "    }\n",
    "    SGD_grid = {\n",
    "        \n",
    "        \"penalty\": [\"l2\"],\n",
    "        \"alpha\": [0.01],\n",
    "        'n_jobs': [-1]    \n",
    "    }\n",
    "    \n",
    "    \n",
    "    \n",
    "    Gradian=GradientBoostingClassifier()\n",
    "    Gradian_grid={\n",
    "        'loss' : ['deviance', 'exponential'],\n",
    "        \"learning_rate\":[0.10,0.15],\n",
    "        \"n_estimators\":list(range(100,400,50)),\n",
    "        \"max_depth\":list(range(0,10,3))\n",
    "        }\n",
    "    Gradian_grid={\n",
    "        \"learning_rate\":[0.15],\n",
    "        \"n_estimators\":[250],\n",
    "        }\n",
    "\n",
    "\n",
    "    XGB=XGBClassifier()\n",
    "    XGB_grid={\"learning_rate\"    : [0.05, 0.10, 0.15, 0.20, 0.25, 0.30 ] ,\n",
    "     \"max_depth\"        : [ 3, 4, 5, 6, 8, 10, 12, 15],\n",
    "     \"min_child_weight\" : [ 1, 3, 5, 7 ],\n",
    "     \"gamma\"            : [ 0.0, 0.1, 0.2 , 0.3],\n",
    "     \"colsample_bytree\" : [ 0.3, 0.4, 0.5 , 0.7 ],\n",
    "              'n_jobs':[-1]} \n",
    "    XGB_grid={\"learning_rate\"    : [0.20 ] ,\n",
    "     \"max_depth\"        : [ 10],\n",
    "     \"min_child_weight\" : [3],\n",
    "     \"gamma\"            : [ 0.1],\n",
    "     \"colsample_bytree\" : [ 0.3]\n",
    "              } \n",
    "\n",
    "\n",
    "    RF=RandomForestClassifier()\n",
    "    RF_grid={\n",
    "        'n_estimators' : list(range(100,500,50)),\n",
    "        'max_features' : list(range(6,32,5)),\n",
    "        'n_jobs':[-1],\n",
    "        \"criterion\" : [\"gini\", \"entropy\"],\n",
    "        \"max_depth\"        : [ 3, 4, 5, 6, 8, 10, 12, 15],\n",
    "         \"max_features\" : [\"auto\", \"sqrt\", \"log2\"],\n",
    "        \"class_weight\" : [\"balanced\", \"balanced_subsample\"],\n",
    "        \"ccp_alpha\" : [0.0,0.005,0.01,0.05,0.1,0.15]}\n",
    "    RF_grid={\n",
    "        'n_estimators' : [100,300,500],\n",
    "\n",
    "        \"criterion\" : [\"gini\"],\n",
    "        \"max_depth\"        : [6,7,8],\n",
    "         \"max_features\" : [\"auto\"],\n",
    "        \"class_weight\" : [\"balanced_subsample\"],\n",
    "        \"ccp_alpha\" : [0.1]}\n",
    "\n",
    "    SVM=LinearSVC()\n",
    "    SVM_grid={\n",
    "    \"penalty\" : ['l1', 'l2'],\n",
    "    \"loss\" : ['hinge', 'squared_hinge']\n",
    "    }\n",
    "    SVM_grid={\n",
    "    \"penalty\" : ['l2'],\n",
    "    \"loss\" : ['hinge']\n",
    "    }\n",
    "\n",
    "\n",
    "    KNN=KNeighborsClassifier()\n",
    "    KNN_grid={\n",
    "        'n_neighbors':list(range(10,100,10)),\n",
    "        'weights' : ['uniform', 'distance'],\n",
    "        'leaf_size':list(range(1,10,2)),\n",
    "         'algorithm':['auto', 'kd_tree'],\n",
    "         'n_jobs':[-1],\n",
    "         \"metric\": [\"euclidean\", \"cityblock\"]}\n",
    "    \n",
    "    KNN_grid={\n",
    "        'n_neighbors':[2,3,5],\n",
    "        'weights' : ['distance'],\n",
    "        'leaf_size':[1],\n",
    "         'algorithm':['auto'],\n",
    "         \"metric\": [\"euclidean\"]}\n",
    "    \n",
    "\n",
    "\n",
    "    Dtree=DecisionTreeClassifier()\n",
    "    Dtree_grid= {'max_depth':list(range(1,12,2)), \n",
    "                  'min_samples_leaf':[1,2,3,4,5], \n",
    "                  'min_samples_split':[2,3,4,5],\n",
    "                  'criterion' : ['gini','entropy'],\n",
    "                 'min_weight_fraction_leaf' : [0.0,0.005,0.01,0.05,0.1,0.15],\n",
    "                 \"ccp_alpha\" : [0.0,0.005,0.01,0.05,0.1,0.15]}\n",
    "    \n",
    "    Dtree_grid= {'max_depth':[6,7], \n",
    "                  'criterion' : ['gini'],\n",
    "                 \"ccp_alpha\" : [0.1]}\n",
    "\n",
    "    HistGB=HistGradientBoostingClassifier()\n",
    "    HistGB_grid={\n",
    "        'loss' : ['auto', 'binary_crossentropy', 'categorical_crossentropy'],\n",
    "        \"l2_regularization\" : [0.0,0.005,0.01,0.05,0.1,0.15],\n",
    "        \"tol\" : [1e-7,1e-6,1e-5,1e-4,1e-3]} \n",
    "    HistGB_grid={\n",
    "        'loss' : ['binary_crossentropy', ],\n",
    "        \"l2_regularization\" : [0.1,]} \n",
    "    \n",
    "    Adaboost= AdaBoostClassifier()\n",
    "    Adaboost_grid={\n",
    "        \"n_estimators\":list(range(50,200,20)),\n",
    "        'learning_rate':[0.001,0.05,0.10,0.15]\n",
    "    }\n",
    "\n",
    "    Adaboost_grid={\n",
    "        \"n_estimators\":[70],\n",
    "        'learning_rate':[0.10]\n",
    "    }\n",
    "\n",
    "    model_list=[Logit,SGD,Gradian,XGB,RF,SVM,KNN,Dtree,HistGB,Adaboost]# list of the models\n",
    "    model_str=[\"Logistic_Regression\",\"SGD Classifier\",\n",
    "               \"Gradient BoostingClassifier\",\n",
    "              \"XGB Classifier\",\"Random_Forest_Classifier\",\n",
    "               \"SVM\",\"KNN\",\"Decision_Tree\",\"HistGradientBoostingClassifier\",\"Adaboost\"]#models names\n",
    "    Optimized_list=[Logit_grid,SGD_grid,Gradian_grid,\n",
    "                   XGB_grid,RF_grid,SVM_grid,KNN_grid,Dtree_grid,\n",
    "                   HistGB_grid,Adaboost_grid]\n",
    "\n",
    "    # run the model pipelines\n",
    "    model_dic={}\n",
    "    best_acc=0\n",
    "    scorer = make_scorer(accuracy_score)\n",
    "    for i in range(0,len(model_list)):\n",
    "           \n",
    "    \n",
    "        model=model_list[i]\n",
    "        model_name=model_str[i]\n",
    "        model_dic[model_name]={}\n",
    "        print(\"**************************************************\")\n",
    "        print(model_name ,\" is running .... \")\n",
    "        print(\"**************************************************\")\n",
    "        model.fit(x_train, y_train) # train with selected Features\n",
    "\n",
    "        y_pred = model.predict(x_test)# test the model performance using the selected features  \n",
    "        #robY=model.predict_proba(X_test)#predict the probability for x\n",
    "        trainscor= cross_val_score(model, x_train, y_train, cv=5)\n",
    "        print(\"Accuracy of Train Dataset : %0.2f (+/- %0.2f)\" % (trainscor.mean(), trainscor.std() * 2))\n",
    "        # evaluate accuracy\n",
    "        testscores=accuracy_score(y_test, y_pred)\n",
    "        print (\"Validation Model Accuracy Score:\", accuracy_score(y_test, y_pred),testscores)\n",
    "        model_dic[model_name]['Original_model_Train_Acc']=trainscor.mean()\n",
    "        model_dic[model_name]['Original_model_Test_Acc']=testscores\n",
    "        \n",
    "        if testscores.mean() > best_acc:\n",
    "            best_acc=testscores\n",
    "            \n",
    "            print(\"saving the model with Accuracy :\",best_acc)\n",
    "            pickle.dump(model, open('./model.pkl','wb'))\n",
    "            \n",
    "        \n",
    "        \n",
    "        #print(confusion_matrix(y_test, y_pred))\n",
    "        CM=confusion_matrix(y_test, y_pred)\n",
    "        print(CM)\n",
    "        report=classification_report(y_test, y_pred)\n",
    "        print('Model Performance')\n",
    "        \n",
    "        model_dic[model_name]['Original_model_CM']=[CM]\n",
    "        model_dic[model_name]['Original_model_Report']=[report]\n",
    "        #print(\"dict_level_1\")\n",
    "        print (report)\n",
    "        \n",
    "        \n",
    "        \n",
    "        \"\"\"Optimized_model = RandomizedSearchCV(estimator = model,\n",
    "                               param_distributions = Optimized_list[i],\n",
    "                               n_iter = 100, cv = 5,\n",
    "                               verbose=2, random_state=2, \n",
    "                               n_jobs = -1)\"\"\"\n",
    "        \n",
    "        \"\"\"        \n",
    "        Optimized_model = GridSearchCV(model_list[i],\n",
    "                               Optimized_list[i],\n",
    "                                cv = 5,\n",
    "                               verbose=0, \n",
    "                                scoring=scorer )\n",
    "                                \"\"\"\n",
    "        print(\"******* Optimization *******\")\n",
    "        Optimized_model = GridSearchCV(model_list[i],\n",
    "                               Optimized_list[i],\n",
    "                                cv = 5,\n",
    "                               verbose=.5,\n",
    "                                  n_jobs=3  )\n",
    "        # Fit the random search model\n",
    "        Optimized_model.fit(x_train, y_train)\n",
    "        #get the best param:\n",
    "        optimized_param=Optimized_model.best_params_\n",
    "        print(optimized_param)\n",
    "        model_dic[model_name]['Optimized_param']=optimized_param\n",
    "        \n",
    "        \n",
    "        y_pred = Optimized_model.predict(x_test)# test the model performance using the selected features  \n",
    "        #robY=model.predict_proba(X_test)#predict the probability for x\n",
    "        trainscor= cross_val_score(Optimized_model, x_train, y_train, cv=5)\n",
    "        print(\"Accuracy of Optimizaed_Train Dataset : %0.2f (+/- %0.2f)\" % (trainscor.mean(), trainscor.std() * 2))\n",
    "        # evaluate accuracy\n",
    "        testscores  =accuracy_score(y_test, y_pred)\n",
    "        print (\"Validation Optimizaed_Model Accuracy Score:\",testscores)\n",
    "        #print(confusion_matrix(y_test, y_pred))\n",
    "        CM=confusion_matrix(y_test, y_pred)\n",
    "        print(CM)\n",
    "        report=classification_report(y_test, y_pred)\n",
    "        \n",
    "        print('Optimized_Model Performance')\n",
    "        print (report)\n",
    "        print(\"****************************\")\n",
    "        #pickle.dump(model, open('./model/model.pkl','wb'))\n",
    "        model_dic[model_name]['Optimized_model_Train_Acc']=trainscor.mean()\n",
    "        model_dic[model_name]['Optimized_model_Test_Acc']=testscores\n",
    "        model_dic[model_name]['Optimized_model_CM']=[CM]\n",
    "        model_dic[model_name]['Optimized_model_Report']=[report]\n",
    "        model_dic[model_name]['Improvement']=model_dic[model_name]['Optimized_model_Train_Acc']- model_dic[model_name]['Original_model_Train_Acc']\n",
    "        if testscores.mean() > best_acc:\n",
    "            best_acc=trainscor.mean()\n",
    "            print(\"saving the optimized_model with Accuracy :\",best_acc)\n",
    "            pickle.dump(model, open('./model.pkl','wb'))\n",
    "    DF_report=model_reporting(model_dic)\n",
    "    return DF_report,model_dic \n",
    "        \n",
    "        \n",
    "        \n",
    "        \n",
    "        "
   ]
  },
  {
   "cell_type": "markdown",
   "metadata": {},
   "source": [
    "# 4. Runin the Model"
   ]
  },
  {
   "cell_type": "code",
   "execution_count": 6,
   "metadata": {},
   "outputs": [],
   "source": [
    "# dataset Prepration:\n",
    "csv_file=\"label_train.csv\"\n",
    "path=\"./data/\"\n",
    "data,df=Dataset_prepration(path,csv_file)\n"
   ]
  },
  {
   "cell_type": "code",
   "execution_count": 7,
   "metadata": {},
   "outputs": [
    {
     "name": "stdout",
     "output_type": "stream",
     "text": [
      "**************************************************\n",
      "Logistic_Regression  is running .... \n",
      "**************************************************\n",
      "Accuracy of Train Dataset : 0.85 (+/- 0.03)\n",
      "Validation Model Accuracy Score: 0.8766666666666667 0.8766666666666667\n",
      "saving the model with Accuracy : 0.8766666666666667\n",
      "[[139  20]\n",
      " [ 17 124]]\n",
      "Model Performance\n",
      "              precision    recall  f1-score   support\n",
      "\n",
      "           1       0.89      0.87      0.88       159\n",
      "           2       0.86      0.88      0.87       141\n",
      "\n",
      "    accuracy                           0.88       300\n",
      "   macro avg       0.88      0.88      0.88       300\n",
      "weighted avg       0.88      0.88      0.88       300\n",
      "\n",
      "******* Optimization *******\n",
      "Fitting 5 folds for each of 40 candidates, totalling 200 fits\n"
     ]
    },
    {
     "name": "stderr",
     "output_type": "stream",
     "text": [
      "[Parallel(n_jobs=3)]: Using backend LokyBackend with 3 concurrent workers.\n",
      "[Parallel(n_jobs=3)]: Done 109 tasks      | elapsed:    6.8s\n",
      "[Parallel(n_jobs=3)]: Done 200 out of 200 | elapsed:    8.2s finished\n",
      "[Parallel(n_jobs=3)]: Using backend LokyBackend with 3 concurrent workers.\n"
     ]
    },
    {
     "name": "stdout",
     "output_type": "stream",
     "text": [
      "{'C': 0.03359818286283781, 'penalty': 'l2', 'solver': 'liblinear'}\n",
      "Fitting 5 folds for each of 40 candidates, totalling 200 fits\n"
     ]
    },
    {
     "name": "stderr",
     "output_type": "stream",
     "text": [
      "[Parallel(n_jobs=3)]: Done 200 out of 200 | elapsed:    2.0s finished\n",
      "[Parallel(n_jobs=3)]: Using backend LokyBackend with 3 concurrent workers.\n"
     ]
    },
    {
     "name": "stdout",
     "output_type": "stream",
     "text": [
      "Fitting 5 folds for each of 40 candidates, totalling 200 fits\n"
     ]
    },
    {
     "name": "stderr",
     "output_type": "stream",
     "text": [
      "[Parallel(n_jobs=3)]: Done 200 out of 200 | elapsed:    1.5s finished\n",
      "[Parallel(n_jobs=3)]: Using backend LokyBackend with 3 concurrent workers.\n"
     ]
    },
    {
     "name": "stdout",
     "output_type": "stream",
     "text": [
      "Fitting 5 folds for each of 40 candidates, totalling 200 fits\n"
     ]
    },
    {
     "name": "stderr",
     "output_type": "stream",
     "text": [
      "[Parallel(n_jobs=3)]: Done 200 out of 200 | elapsed:    1.7s finished\n",
      "[Parallel(n_jobs=3)]: Using backend LokyBackend with 3 concurrent workers.\n"
     ]
    },
    {
     "name": "stdout",
     "output_type": "stream",
     "text": [
      "Fitting 5 folds for each of 40 candidates, totalling 200 fits\n"
     ]
    },
    {
     "name": "stderr",
     "output_type": "stream",
     "text": [
      "[Parallel(n_jobs=3)]: Done 200 out of 200 | elapsed:    2.1s finished\n",
      "[Parallel(n_jobs=3)]: Using backend LokyBackend with 3 concurrent workers.\n"
     ]
    },
    {
     "name": "stdout",
     "output_type": "stream",
     "text": [
      "Fitting 5 folds for each of 40 candidates, totalling 200 fits\n"
     ]
    },
    {
     "name": "stderr",
     "output_type": "stream",
     "text": [
      "[Parallel(n_jobs=3)]: Done 200 out of 200 | elapsed:    1.7s finished\n"
     ]
    },
    {
     "name": "stdout",
     "output_type": "stream",
     "text": [
      "Accuracy of Optimizaed_Train Dataset : 0.85 (+/- 0.04)\n",
      "Validation Optimizaed_Model Accuracy Score: 0.87\n",
      "[[135  24]\n",
      " [ 15 126]]\n",
      "Optimized_Model Performance\n",
      "              precision    recall  f1-score   support\n",
      "\n",
      "           1       0.90      0.85      0.87       159\n",
      "           2       0.84      0.89      0.87       141\n",
      "\n",
      "    accuracy                           0.87       300\n",
      "   macro avg       0.87      0.87      0.87       300\n",
      "weighted avg       0.87      0.87      0.87       300\n",
      "\n",
      "****************************\n",
      "**************************************************\n",
      "SGD Classifier  is running .... \n",
      "**************************************************\n",
      "Accuracy of Train Dataset : 0.81 (+/- 0.03)\n",
      "Validation Model Accuracy Score: 0.83 0.83\n",
      "[[131  28]\n",
      " [ 23 118]]\n",
      "Model Performance\n",
      "              precision    recall  f1-score   support\n",
      "\n",
      "           1       0.85      0.82      0.84       159\n",
      "           2       0.81      0.84      0.82       141\n",
      "\n",
      "    accuracy                           0.83       300\n",
      "   macro avg       0.83      0.83      0.83       300\n",
      "weighted avg       0.83      0.83      0.83       300\n",
      "\n",
      "******* Optimization *******\n",
      "Fitting 5 folds for each of 1 candidates, totalling 5 fits\n",
      "{'alpha': 0.01, 'n_jobs': -1, 'penalty': 'l2'}\n",
      "Fitting 5 folds for each of 1 candidates, totalling 5 fits"
     ]
    },
    {
     "name": "stderr",
     "output_type": "stream",
     "text": [
      "[Parallel(n_jobs=3)]: Using backend LokyBackend with 3 concurrent workers.\n",
      "[Parallel(n_jobs=3)]: Done   5 out of   5 | elapsed:    0.0s finished\n",
      "[Parallel(n_jobs=3)]: Using backend LokyBackend with 3 concurrent workers.\n"
     ]
    },
    {
     "name": "stdout",
     "output_type": "stream",
     "text": [
      "\n",
      "Fitting 5 folds for each of 1 candidates, totalling 5 fits\n"
     ]
    },
    {
     "name": "stderr",
     "output_type": "stream",
     "text": [
      "[Parallel(n_jobs=3)]: Done   5 out of   5 | elapsed:    0.0s finished\n",
      "[Parallel(n_jobs=3)]: Using backend LokyBackend with 3 concurrent workers.\n",
      "[Parallel(n_jobs=3)]: Done   5 out of   5 | elapsed:    0.0s finished\n",
      "[Parallel(n_jobs=3)]: Using backend LokyBackend with 3 concurrent workers.\n"
     ]
    },
    {
     "name": "stdout",
     "output_type": "stream",
     "text": [
      "Fitting 5 folds for each of 1 candidates, totalling 5 fits\n",
      "Fitting 5 folds for each of 1 candidates, totalling 5 fits\n"
     ]
    },
    {
     "name": "stderr",
     "output_type": "stream",
     "text": [
      "[Parallel(n_jobs=3)]: Done   5 out of   5 | elapsed:    0.0s finished\n",
      "[Parallel(n_jobs=3)]: Using backend LokyBackend with 3 concurrent workers.\n",
      "[Parallel(n_jobs=3)]: Done   5 out of   5 | elapsed:    0.0s finished\n",
      "[Parallel(n_jobs=3)]: Using backend LokyBackend with 3 concurrent workers.\n"
     ]
    },
    {
     "name": "stdout",
     "output_type": "stream",
     "text": [
      "Fitting 5 folds for each of 1 candidates, totalling 5 fits\n",
      "Accuracy of Optimizaed_Train Dataset : 0.85 (+/- 0.03)\n",
      "Validation Optimizaed_Model Accuracy Score: 0.8666666666666667\n",
      "[[134  25]\n",
      " [ 15 126]]\n",
      "Optimized_Model Performance\n",
      "              precision    recall  f1-score   support\n",
      "\n",
      "           1       0.90      0.84      0.87       159\n",
      "           2       0.83      0.89      0.86       141\n",
      "\n",
      "    accuracy                           0.87       300\n",
      "   macro avg       0.87      0.87      0.87       300\n",
      "weighted avg       0.87      0.87      0.87       300\n",
      "\n",
      "****************************\n",
      "**************************************************\n",
      "Gradient BoostingClassifier  is running .... \n",
      "**************************************************\n"
     ]
    },
    {
     "name": "stderr",
     "output_type": "stream",
     "text": [
      "[Parallel(n_jobs=3)]: Done   5 out of   5 | elapsed:    0.0s finished\n"
     ]
    },
    {
     "name": "stdout",
     "output_type": "stream",
     "text": [
      "Accuracy of Train Dataset : 0.83 (+/- 0.03)\n",
      "Validation Model Accuracy Score: 0.8566666666666667 0.8566666666666667\n",
      "[[135  24]\n",
      " [ 19 122]]\n",
      "Model Performance\n",
      "              precision    recall  f1-score   support\n",
      "\n",
      "           1       0.88      0.85      0.86       159\n",
      "           2       0.84      0.87      0.85       141\n",
      "\n",
      "    accuracy                           0.86       300\n",
      "   macro avg       0.86      0.86      0.86       300\n",
      "weighted avg       0.86      0.86      0.86       300\n",
      "\n",
      "******* Optimization *******\n",
      "Fitting 5 folds for each of 1 candidates, totalling 5 fits\n"
     ]
    },
    {
     "name": "stderr",
     "output_type": "stream",
     "text": [
      "[Parallel(n_jobs=3)]: Using backend LokyBackend with 3 concurrent workers.\n",
      "[Parallel(n_jobs=3)]: Done   5 out of   5 | elapsed:   43.3s finished\n"
     ]
    },
    {
     "name": "stdout",
     "output_type": "stream",
     "text": [
      "{'learning_rate': 0.15, 'n_estimators': 250}\n",
      "Fitting 5 folds for each of 1 candidates, totalling 5 fits\n"
     ]
    },
    {
     "name": "stderr",
     "output_type": "stream",
     "text": [
      "[Parallel(n_jobs=3)]: Using backend LokyBackend with 3 concurrent workers.\n",
      "[Parallel(n_jobs=3)]: Done   5 out of   5 | elapsed:   33.7s finished\n"
     ]
    },
    {
     "name": "stdout",
     "output_type": "stream",
     "text": [
      "Fitting 5 folds for each of 1 candidates, totalling 5 fits\n"
     ]
    },
    {
     "name": "stderr",
     "output_type": "stream",
     "text": [
      "[Parallel(n_jobs=3)]: Using backend LokyBackend with 3 concurrent workers.\n",
      "[Parallel(n_jobs=3)]: Done   5 out of   5 | elapsed:   29.5s finished\n"
     ]
    },
    {
     "name": "stdout",
     "output_type": "stream",
     "text": [
      "Fitting 5 folds for each of 1 candidates, totalling 5 fits\n"
     ]
    },
    {
     "name": "stderr",
     "output_type": "stream",
     "text": [
      "[Parallel(n_jobs=3)]: Using backend LokyBackend with 3 concurrent workers.\n",
      "[Parallel(n_jobs=3)]: Done   5 out of   5 | elapsed:   31.6s finished\n"
     ]
    },
    {
     "name": "stdout",
     "output_type": "stream",
     "text": [
      "Fitting 5 folds for each of 1 candidates, totalling 5 fits\n"
     ]
    },
    {
     "name": "stderr",
     "output_type": "stream",
     "text": [
      "[Parallel(n_jobs=3)]: Using backend LokyBackend with 3 concurrent workers.\n",
      "[Parallel(n_jobs=3)]: Done   5 out of   5 | elapsed:   32.4s finished\n"
     ]
    },
    {
     "name": "stdout",
     "output_type": "stream",
     "text": [
      "Fitting 5 folds for each of 1 candidates, totalling 5 fits\n"
     ]
    },
    {
     "name": "stderr",
     "output_type": "stream",
     "text": [
      "[Parallel(n_jobs=3)]: Using backend LokyBackend with 3 concurrent workers.\n",
      "[Parallel(n_jobs=3)]: Done   5 out of   5 | elapsed:   30.5s finished\n"
     ]
    },
    {
     "name": "stdout",
     "output_type": "stream",
     "text": [
      "Accuracy of Optimizaed_Train Dataset : 0.85 (+/- 0.03)\n",
      "Validation Optimizaed_Model Accuracy Score: 0.8633333333333333\n",
      "[[135  24]\n",
      " [ 17 124]]\n",
      "Optimized_Model Performance\n",
      "              precision    recall  f1-score   support\n",
      "\n",
      "           1       0.89      0.85      0.87       159\n",
      "           2       0.84      0.88      0.86       141\n",
      "\n",
      "    accuracy                           0.86       300\n",
      "   macro avg       0.86      0.86      0.86       300\n",
      "weighted avg       0.86      0.86      0.86       300\n",
      "\n",
      "****************************\n",
      "**************************************************\n",
      "XGB Classifier  is running .... \n",
      "**************************************************\n",
      "Accuracy of Train Dataset : 0.84 (+/- 0.03)\n",
      "Validation Model Accuracy Score: 0.8633333333333333 0.8633333333333333\n",
      "[[135  24]\n",
      " [ 17 124]]\n",
      "Model Performance\n",
      "              precision    recall  f1-score   support\n",
      "\n",
      "           1       0.89      0.85      0.87       159\n",
      "           2       0.84      0.88      0.86       141\n",
      "\n",
      "    accuracy                           0.86       300\n",
      "   macro avg       0.86      0.86      0.86       300\n",
      "weighted avg       0.86      0.86      0.86       300\n",
      "\n",
      "******* Optimization *******\n",
      "Fitting 5 folds for each of 1 candidates, totalling 5 fits\n"
     ]
    },
    {
     "name": "stderr",
     "output_type": "stream",
     "text": [
      "[Parallel(n_jobs=3)]: Using backend LokyBackend with 3 concurrent workers.\n",
      "[Parallel(n_jobs=3)]: Done   5 out of   5 | elapsed:    9.2s finished\n"
     ]
    },
    {
     "name": "stdout",
     "output_type": "stream",
     "text": [
      "{'colsample_bytree': 0.3, 'gamma': 0.1, 'learning_rate': 0.2, 'max_depth': 10, 'min_child_weight': 3}\n",
      "Fitting 5 folds for each of 1 candidates, totalling 5 fits\n"
     ]
    },
    {
     "name": "stderr",
     "output_type": "stream",
     "text": [
      "[Parallel(n_jobs=3)]: Using backend LokyBackend with 3 concurrent workers.\n",
      "[Parallel(n_jobs=3)]: Done   5 out of   5 | elapsed:    2.1s finished\n"
     ]
    },
    {
     "name": "stdout",
     "output_type": "stream",
     "text": [
      "Fitting 5 folds for each of 1 candidates, totalling 5 fits\n"
     ]
    },
    {
     "name": "stderr",
     "output_type": "stream",
     "text": [
      "[Parallel(n_jobs=3)]: Using backend LokyBackend with 3 concurrent workers.\n",
      "[Parallel(n_jobs=3)]: Done   5 out of   5 | elapsed:    2.0s finished\n"
     ]
    },
    {
     "name": "stdout",
     "output_type": "stream",
     "text": [
      "Fitting 5 folds for each of 1 candidates, totalling 5 fits\n"
     ]
    },
    {
     "name": "stderr",
     "output_type": "stream",
     "text": [
      "[Parallel(n_jobs=3)]: Using backend LokyBackend with 3 concurrent workers.\n",
      "[Parallel(n_jobs=3)]: Done   5 out of   5 | elapsed:    2.0s finished\n"
     ]
    },
    {
     "name": "stdout",
     "output_type": "stream",
     "text": [
      "Fitting 5 folds for each of 1 candidates, totalling 5 fits\n"
     ]
    },
    {
     "name": "stderr",
     "output_type": "stream",
     "text": [
      "[Parallel(n_jobs=3)]: Using backend LokyBackend with 3 concurrent workers.\n",
      "[Parallel(n_jobs=3)]: Done   5 out of   5 | elapsed:    3.0s finished\n"
     ]
    },
    {
     "name": "stdout",
     "output_type": "stream",
     "text": [
      "Fitting 5 folds for each of 1 candidates, totalling 5 fits\n"
     ]
    },
    {
     "name": "stderr",
     "output_type": "stream",
     "text": [
      "[Parallel(n_jobs=3)]: Using backend LokyBackend with 3 concurrent workers.\n",
      "[Parallel(n_jobs=3)]: Done   5 out of   5 | elapsed:    2.8s finished\n"
     ]
    },
    {
     "name": "stdout",
     "output_type": "stream",
     "text": [
      "Accuracy of Optimizaed_Train Dataset : 0.86 (+/- 0.04)\n",
      "Validation Optimizaed_Model Accuracy Score: 0.85\n",
      "[[140  19]\n",
      " [ 26 115]]\n",
      "Optimized_Model Performance\n",
      "              precision    recall  f1-score   support\n",
      "\n",
      "           1       0.84      0.88      0.86       159\n",
      "           2       0.86      0.82      0.84       141\n",
      "\n",
      "    accuracy                           0.85       300\n",
      "   macro avg       0.85      0.85      0.85       300\n",
      "weighted avg       0.85      0.85      0.85       300\n",
      "\n",
      "****************************\n",
      "**************************************************\n",
      "Random_Forest_Classifier  is running .... \n",
      "**************************************************\n",
      "Accuracy of Train Dataset : 0.83 (+/- 0.02)\n",
      "Validation Model Accuracy Score: 0.84 0.84\n",
      "[[137  22]\n",
      " [ 26 115]]\n",
      "Model Performance\n",
      "              precision    recall  f1-score   support\n",
      "\n",
      "           1       0.84      0.86      0.85       159\n",
      "           2       0.84      0.82      0.83       141\n",
      "\n",
      "    accuracy                           0.84       300\n",
      "   macro avg       0.84      0.84      0.84       300\n",
      "weighted avg       0.84      0.84      0.84       300\n",
      "\n",
      "******* Optimization *******\n",
      "Fitting 5 folds for each of 9 candidates, totalling 45 fits\n"
     ]
    },
    {
     "name": "stderr",
     "output_type": "stream",
     "text": [
      "[Parallel(n_jobs=3)]: Using backend LokyBackend with 3 concurrent workers.\n",
      "[Parallel(n_jobs=3)]: Done  45 out of  45 | elapsed:  1.5min finished\n"
     ]
    },
    {
     "name": "stdout",
     "output_type": "stream",
     "text": [
      "{'ccp_alpha': 0.1, 'class_weight': 'balanced_subsample', 'criterion': 'gini', 'max_depth': 8, 'max_features': 'auto', 'n_estimators': 500}\n",
      "Fitting 5 folds for each of 9 candidates, totalling 45 fits\n"
     ]
    },
    {
     "name": "stderr",
     "output_type": "stream",
     "text": [
      "[Parallel(n_jobs=3)]: Using backend LokyBackend with 3 concurrent workers.\n",
      "[Parallel(n_jobs=3)]: Done  45 out of  45 | elapsed:  1.2min finished\n"
     ]
    },
    {
     "name": "stdout",
     "output_type": "stream",
     "text": [
      "Fitting 5 folds for each of 9 candidates, totalling 45 fits\n"
     ]
    },
    {
     "name": "stderr",
     "output_type": "stream",
     "text": [
      "[Parallel(n_jobs=3)]: Using backend LokyBackend with 3 concurrent workers.\n",
      "[Parallel(n_jobs=3)]: Done  45 out of  45 | elapsed:  1.2min finished\n"
     ]
    },
    {
     "name": "stdout",
     "output_type": "stream",
     "text": [
      "Fitting 5 folds for each of 9 candidates, totalling 45 fits\n"
     ]
    },
    {
     "name": "stderr",
     "output_type": "stream",
     "text": [
      "[Parallel(n_jobs=3)]: Using backend LokyBackend with 3 concurrent workers.\n",
      "[Parallel(n_jobs=3)]: Done  45 out of  45 | elapsed:  1.0min finished\n"
     ]
    },
    {
     "name": "stdout",
     "output_type": "stream",
     "text": [
      "Fitting 5 folds for each of 9 candidates, totalling 45 fits\n"
     ]
    },
    {
     "name": "stderr",
     "output_type": "stream",
     "text": [
      "[Parallel(n_jobs=3)]: Using backend LokyBackend with 3 concurrent workers.\n",
      "[Parallel(n_jobs=3)]: Done  45 out of  45 | elapsed:  1.2min finished\n"
     ]
    },
    {
     "name": "stdout",
     "output_type": "stream",
     "text": [
      "Fitting 5 folds for each of 9 candidates, totalling 45 fits\n"
     ]
    },
    {
     "name": "stderr",
     "output_type": "stream",
     "text": [
      "[Parallel(n_jobs=3)]: Using backend LokyBackend with 3 concurrent workers.\n",
      "[Parallel(n_jobs=3)]: Done  45 out of  45 | elapsed:  1.1min finished\n"
     ]
    },
    {
     "name": "stdout",
     "output_type": "stream",
     "text": [
      "Accuracy of Optimizaed_Train Dataset : 0.72 (+/- 0.01)\n",
      "Validation Optimizaed_Model Accuracy Score: 0.7666666666666667\n",
      "[[119  40]\n",
      " [ 30 111]]\n",
      "Optimized_Model Performance\n",
      "              precision    recall  f1-score   support\n",
      "\n",
      "           1       0.80      0.75      0.77       159\n",
      "           2       0.74      0.79      0.76       141\n",
      "\n",
      "    accuracy                           0.77       300\n",
      "   macro avg       0.77      0.77      0.77       300\n",
      "weighted avg       0.77      0.77      0.77       300\n",
      "\n",
      "****************************\n",
      "**************************************************\n",
      "SVM  is running .... \n",
      "**************************************************\n",
      "Accuracy of Train Dataset : 0.85 (+/- 0.04)\n",
      "Validation Model Accuracy Score: 0.88 0.88\n",
      "saving the model with Accuracy : 0.88\n",
      "[[139  20]\n",
      " [ 16 125]]\n",
      "Model Performance\n",
      "              precision    recall  f1-score   support\n",
      "\n",
      "           1       0.90      0.87      0.89       159\n",
      "           2       0.86      0.89      0.87       141\n",
      "\n",
      "    accuracy                           0.88       300\n",
      "   macro avg       0.88      0.88      0.88       300\n",
      "weighted avg       0.88      0.88      0.88       300\n",
      "\n",
      "******* Optimization *******\n",
      "Fitting 5 folds for each of 1 candidates, totalling 5 fits\n"
     ]
    },
    {
     "name": "stderr",
     "output_type": "stream",
     "text": [
      "[Parallel(n_jobs=3)]: Using backend LokyBackend with 3 concurrent workers.\n",
      "[Parallel(n_jobs=3)]: Done   5 out of   5 | elapsed:    0.2s finished\n",
      "[Parallel(n_jobs=3)]: Using backend LokyBackend with 3 concurrent workers.\n"
     ]
    },
    {
     "name": "stdout",
     "output_type": "stream",
     "text": [
      "{'loss': 'hinge', 'penalty': 'l2'}\n",
      "Fitting 5 folds for each of 1 candidates, totalling 5 fits\n"
     ]
    },
    {
     "name": "stderr",
     "output_type": "stream",
     "text": [
      "[Parallel(n_jobs=3)]: Done   5 out of   5 | elapsed:    0.1s finished\n",
      "[Parallel(n_jobs=3)]: Using backend LokyBackend with 3 concurrent workers.\n"
     ]
    },
    {
     "name": "stdout",
     "output_type": "stream",
     "text": [
      "Fitting 5 folds for each of 1 candidates, totalling 5 fits\n"
     ]
    },
    {
     "name": "stderr",
     "output_type": "stream",
     "text": [
      "[Parallel(n_jobs=3)]: Done   5 out of   5 | elapsed:    0.1s finished\n",
      "[Parallel(n_jobs=3)]: Using backend LokyBackend with 3 concurrent workers.\n"
     ]
    },
    {
     "name": "stdout",
     "output_type": "stream",
     "text": [
      "Fitting 5 folds for each of 1 candidates, totalling 5 fits\n"
     ]
    },
    {
     "name": "stderr",
     "output_type": "stream",
     "text": [
      "[Parallel(n_jobs=3)]: Done   5 out of   5 | elapsed:    0.2s finished\n",
      "[Parallel(n_jobs=3)]: Using backend LokyBackend with 3 concurrent workers.\n"
     ]
    },
    {
     "name": "stdout",
     "output_type": "stream",
     "text": [
      "Fitting 5 folds for each of 1 candidates, totalling 5 fits\n"
     ]
    },
    {
     "name": "stderr",
     "output_type": "stream",
     "text": [
      "[Parallel(n_jobs=3)]: Done   5 out of   5 | elapsed:    0.2s finished\n",
      "[Parallel(n_jobs=3)]: Using backend LokyBackend with 3 concurrent workers.\n"
     ]
    },
    {
     "name": "stdout",
     "output_type": "stream",
     "text": [
      "Fitting 5 folds for each of 1 candidates, totalling 5 fits\n"
     ]
    },
    {
     "name": "stderr",
     "output_type": "stream",
     "text": [
      "[Parallel(n_jobs=3)]: Done   5 out of   5 | elapsed:    0.1s finished\n"
     ]
    },
    {
     "name": "stdout",
     "output_type": "stream",
     "text": [
      "Accuracy of Optimizaed_Train Dataset : 0.85 (+/- 0.02)\n",
      "Validation Optimizaed_Model Accuracy Score: 0.8666666666666667\n",
      "[[139  20]\n",
      " [ 20 121]]\n",
      "Optimized_Model Performance\n",
      "              precision    recall  f1-score   support\n",
      "\n",
      "           1       0.87      0.87      0.87       159\n",
      "           2       0.86      0.86      0.86       141\n",
      "\n",
      "    accuracy                           0.87       300\n",
      "   macro avg       0.87      0.87      0.87       300\n",
      "weighted avg       0.87      0.87      0.87       300\n",
      "\n",
      "****************************\n",
      "**************************************************\n",
      "KNN  is running .... \n",
      "**************************************************\n",
      "Accuracy of Train Dataset : 0.58 (+/- 0.02)\n",
      "Validation Model Accuracy Score: 0.57 0.57\n",
      "[[ 31 128]\n",
      " [  1 140]]\n",
      "Model Performance\n",
      "              precision    recall  f1-score   support\n",
      "\n",
      "           1       0.97      0.19      0.32       159\n",
      "           2       0.52      0.99      0.68       141\n",
      "\n",
      "    accuracy                           0.57       300\n",
      "   macro avg       0.75      0.59      0.50       300\n",
      "weighted avg       0.76      0.57      0.49       300\n",
      "\n",
      "******* Optimization *******\n",
      "Fitting 5 folds for each of 3 candidates, totalling 15 fits\n"
     ]
    },
    {
     "name": "stderr",
     "output_type": "stream",
     "text": [
      "[Parallel(n_jobs=3)]: Using backend LokyBackend with 3 concurrent workers.\n",
      "[Parallel(n_jobs=3)]: Done  15 out of  15 | elapsed:   18.7s finished\n"
     ]
    },
    {
     "name": "stdout",
     "output_type": "stream",
     "text": [
      "{'algorithm': 'auto', 'leaf_size': 1, 'metric': 'euclidean', 'n_neighbors': 2, 'weights': 'distance'}\n",
      "Fitting 5 folds for each of 3 candidates, totalling 15 fits\n"
     ]
    },
    {
     "name": "stderr",
     "output_type": "stream",
     "text": [
      "[Parallel(n_jobs=3)]: Using backend LokyBackend with 3 concurrent workers.\n",
      "[Parallel(n_jobs=3)]: Done  15 out of  15 | elapsed:   15.1s finished\n"
     ]
    },
    {
     "name": "stdout",
     "output_type": "stream",
     "text": [
      "Fitting 5 folds for each of 3 candidates, totalling 15 fits\n"
     ]
    },
    {
     "name": "stderr",
     "output_type": "stream",
     "text": [
      "[Parallel(n_jobs=3)]: Using backend LokyBackend with 3 concurrent workers.\n",
      "[Parallel(n_jobs=3)]: Done  15 out of  15 | elapsed:   14.9s finished\n"
     ]
    },
    {
     "name": "stdout",
     "output_type": "stream",
     "text": [
      "Fitting 5 folds for each of 3 candidates, totalling 15 fits\n"
     ]
    },
    {
     "name": "stderr",
     "output_type": "stream",
     "text": [
      "[Parallel(n_jobs=3)]: Using backend LokyBackend with 3 concurrent workers.\n",
      "[Parallel(n_jobs=3)]: Done  15 out of  15 | elapsed:   14.6s finished\n"
     ]
    },
    {
     "name": "stdout",
     "output_type": "stream",
     "text": [
      "Fitting 5 folds for each of 3 candidates, totalling 15 fits\n"
     ]
    },
    {
     "name": "stderr",
     "output_type": "stream",
     "text": [
      "[Parallel(n_jobs=3)]: Using backend LokyBackend with 3 concurrent workers.\n",
      "[Parallel(n_jobs=3)]: Done  15 out of  15 | elapsed:   15.1s finished\n"
     ]
    },
    {
     "name": "stdout",
     "output_type": "stream",
     "text": [
      "Fitting 5 folds for each of 3 candidates, totalling 15 fits\n"
     ]
    },
    {
     "name": "stderr",
     "output_type": "stream",
     "text": [
      "[Parallel(n_jobs=3)]: Using backend LokyBackend with 3 concurrent workers.\n",
      "[Parallel(n_jobs=3)]: Done  15 out of  15 | elapsed:   15.5s finished\n"
     ]
    },
    {
     "name": "stdout",
     "output_type": "stream",
     "text": [
      "Accuracy of Optimizaed_Train Dataset : 0.65 (+/- 0.05)\n",
      "Validation Optimizaed_Model Accuracy Score: 0.6733333333333333\n",
      "[[ 67  92]\n",
      " [  6 135]]\n",
      "Optimized_Model Performance\n",
      "              precision    recall  f1-score   support\n",
      "\n",
      "           1       0.92      0.42      0.58       159\n",
      "           2       0.59      0.96      0.73       141\n",
      "\n",
      "    accuracy                           0.67       300\n",
      "   macro avg       0.76      0.69      0.66       300\n",
      "weighted avg       0.77      0.67      0.65       300\n",
      "\n",
      "****************************\n",
      "**************************************************\n",
      "Decision_Tree  is running .... \n",
      "**************************************************\n",
      "Accuracy of Train Dataset : 0.71 (+/- 0.03)\n",
      "Validation Model Accuracy Score: 0.7366666666666667 0.7366666666666667\n",
      "[[116  43]\n",
      " [ 36 105]]\n",
      "Model Performance\n",
      "              precision    recall  f1-score   support\n",
      "\n",
      "           1       0.76      0.73      0.75       159\n",
      "           2       0.71      0.74      0.73       141\n",
      "\n",
      "    accuracy                           0.74       300\n",
      "   macro avg       0.74      0.74      0.74       300\n",
      "weighted avg       0.74      0.74      0.74       300\n",
      "\n",
      "******* Optimization *******\n",
      "Fitting 5 folds for each of 2 candidates, totalling 10 fits\n"
     ]
    },
    {
     "name": "stderr",
     "output_type": "stream",
     "text": [
      "[Parallel(n_jobs=3)]: Using backend LokyBackend with 3 concurrent workers.\n",
      "[Parallel(n_jobs=3)]: Done  10 out of  10 | elapsed:    0.5s finished\n",
      "[Parallel(n_jobs=3)]: Using backend LokyBackend with 3 concurrent workers.\n"
     ]
    },
    {
     "name": "stdout",
     "output_type": "stream",
     "text": [
      "{'ccp_alpha': 0.1, 'criterion': 'gini', 'max_depth': 6}\n",
      "Fitting 5 folds for each of 2 candidates, totalling 10 fits\n"
     ]
    },
    {
     "name": "stderr",
     "output_type": "stream",
     "text": [
      "[Parallel(n_jobs=3)]: Done  10 out of  10 | elapsed:    0.4s finished\n",
      "[Parallel(n_jobs=3)]: Using backend LokyBackend with 3 concurrent workers.\n"
     ]
    },
    {
     "name": "stdout",
     "output_type": "stream",
     "text": [
      "Fitting 5 folds for each of 2 candidates, totalling 10 fits\n"
     ]
    },
    {
     "name": "stderr",
     "output_type": "stream",
     "text": [
      "[Parallel(n_jobs=3)]: Done  10 out of  10 | elapsed:    0.3s finished\n",
      "[Parallel(n_jobs=3)]: Using backend LokyBackend with 3 concurrent workers.\n"
     ]
    },
    {
     "name": "stdout",
     "output_type": "stream",
     "text": [
      "Fitting 5 folds for each of 2 candidates, totalling 10 fits\n"
     ]
    },
    {
     "name": "stderr",
     "output_type": "stream",
     "text": [
      "[Parallel(n_jobs=3)]: Done  10 out of  10 | elapsed:    0.4s finished\n",
      "[Parallel(n_jobs=3)]: Using backend LokyBackend with 3 concurrent workers.\n"
     ]
    },
    {
     "name": "stdout",
     "output_type": "stream",
     "text": [
      "Fitting 5 folds for each of 2 candidates, totalling 10 fits\n"
     ]
    },
    {
     "name": "stderr",
     "output_type": "stream",
     "text": [
      "[Parallel(n_jobs=3)]: Done  10 out of  10 | elapsed:    0.4s finished\n",
      "[Parallel(n_jobs=3)]: Using backend LokyBackend with 3 concurrent workers.\n"
     ]
    },
    {
     "name": "stdout",
     "output_type": "stream",
     "text": [
      "Fitting 5 folds for each of 2 candidates, totalling 10 fits\n"
     ]
    },
    {
     "name": "stderr",
     "output_type": "stream",
     "text": [
      "[Parallel(n_jobs=3)]: Done  10 out of  10 | elapsed:    0.4s finished\n"
     ]
    },
    {
     "name": "stdout",
     "output_type": "stream",
     "text": [
      "Accuracy of Optimizaed_Train Dataset : 0.54 (+/- 0.16)\n",
      "Validation Optimizaed_Model Accuracy Score: 0.47\n",
      "[[  0 159]\n",
      " [  0 141]]\n",
      "Optimized_Model Performance\n",
      "              precision    recall  f1-score   support\n",
      "\n",
      "           1       0.00      0.00      0.00       159\n",
      "           2       0.47      1.00      0.64       141\n",
      "\n",
      "    accuracy                           0.47       300\n",
      "   macro avg       0.23      0.50      0.32       300\n",
      "weighted avg       0.22      0.47      0.30       300\n",
      "\n",
      "****************************\n",
      "**************************************************\n",
      "HistGradientBoostingClassifier  is running .... \n",
      "**************************************************\n",
      "Accuracy of Train Dataset : 0.85 (+/- 0.04)\n",
      "Validation Model Accuracy Score: 0.86 0.86\n",
      "[[136  23]\n",
      " [ 19 122]]\n",
      "Model Performance\n",
      "              precision    recall  f1-score   support\n",
      "\n",
      "           1       0.88      0.86      0.87       159\n",
      "           2       0.84      0.87      0.85       141\n",
      "\n",
      "    accuracy                           0.86       300\n",
      "   macro avg       0.86      0.86      0.86       300\n",
      "weighted avg       0.86      0.86      0.86       300\n",
      "\n",
      "******* Optimization *******\n",
      "Fitting 5 folds for each of 1 candidates, totalling 5 fits\n"
     ]
    },
    {
     "name": "stderr",
     "output_type": "stream",
     "text": [
      "[Parallel(n_jobs=3)]: Using backend LokyBackend with 3 concurrent workers.\n",
      "[Parallel(n_jobs=3)]: Done   5 out of   5 | elapsed:   10.6s finished\n"
     ]
    },
    {
     "name": "stdout",
     "output_type": "stream",
     "text": [
      "{'l2_regularization': 0.1, 'loss': 'binary_crossentropy'}\n",
      "Fitting 5 folds for each of 1 candidates, totalling 5 fits\n"
     ]
    },
    {
     "name": "stderr",
     "output_type": "stream",
     "text": [
      "[Parallel(n_jobs=3)]: Using backend LokyBackend with 3 concurrent workers.\n",
      "[Parallel(n_jobs=3)]: Done   5 out of   5 | elapsed:    8.6s finished\n"
     ]
    },
    {
     "name": "stdout",
     "output_type": "stream",
     "text": [
      "Fitting 5 folds for each of 1 candidates, totalling 5 fits\n"
     ]
    },
    {
     "name": "stderr",
     "output_type": "stream",
     "text": [
      "[Parallel(n_jobs=3)]: Using backend LokyBackend with 3 concurrent workers.\n",
      "[Parallel(n_jobs=3)]: Done   5 out of   5 | elapsed:    7.6s finished\n"
     ]
    },
    {
     "name": "stdout",
     "output_type": "stream",
     "text": [
      "Fitting 5 folds for each of 1 candidates, totalling 5 fits\n"
     ]
    },
    {
     "name": "stderr",
     "output_type": "stream",
     "text": [
      "[Parallel(n_jobs=3)]: Using backend LokyBackend with 3 concurrent workers.\n",
      "[Parallel(n_jobs=3)]: Done   5 out of   5 | elapsed:   12.9s finished\n"
     ]
    },
    {
     "name": "stdout",
     "output_type": "stream",
     "text": [
      "Fitting 5 folds for each of 1 candidates, totalling 5 fits\n"
     ]
    },
    {
     "name": "stderr",
     "output_type": "stream",
     "text": [
      "[Parallel(n_jobs=3)]: Using backend LokyBackend with 3 concurrent workers.\n",
      "[Parallel(n_jobs=3)]: Done   5 out of   5 | elapsed:    9.8s finished\n"
     ]
    },
    {
     "name": "stdout",
     "output_type": "stream",
     "text": [
      "Fitting 5 folds for each of 1 candidates, totalling 5 fits\n"
     ]
    },
    {
     "name": "stderr",
     "output_type": "stream",
     "text": [
      "[Parallel(n_jobs=3)]: Using backend LokyBackend with 3 concurrent workers.\n",
      "[Parallel(n_jobs=3)]: Done   5 out of   5 | elapsed:    8.8s finished\n"
     ]
    },
    {
     "name": "stdout",
     "output_type": "stream",
     "text": [
      "Accuracy of Optimizaed_Train Dataset : 0.85 (+/- 0.02)\n",
      "Validation Optimizaed_Model Accuracy Score: 0.8733333333333333\n",
      "[[140  19]\n",
      " [ 19 122]]\n",
      "Optimized_Model Performance\n",
      "              precision    recall  f1-score   support\n",
      "\n",
      "           1       0.88      0.88      0.88       159\n",
      "           2       0.87      0.87      0.87       141\n",
      "\n",
      "    accuracy                           0.87       300\n",
      "   macro avg       0.87      0.87      0.87       300\n",
      "weighted avg       0.87      0.87      0.87       300\n",
      "\n",
      "****************************\n",
      "**************************************************\n",
      "Adaboost  is running .... \n",
      "**************************************************\n",
      "Accuracy of Train Dataset : 0.82 (+/- 0.01)\n",
      "Validation Model Accuracy Score: 0.84 0.84\n",
      "[[137  22]\n",
      " [ 26 115]]\n",
      "Model Performance\n",
      "              precision    recall  f1-score   support\n",
      "\n",
      "           1       0.84      0.86      0.85       159\n",
      "           2       0.84      0.82      0.83       141\n",
      "\n",
      "    accuracy                           0.84       300\n",
      "   macro avg       0.84      0.84      0.84       300\n",
      "weighted avg       0.84      0.84      0.84       300\n",
      "\n",
      "******* Optimization *******\n",
      "Fitting 5 folds for each of 1 candidates, totalling 5 fits\n"
     ]
    },
    {
     "name": "stderr",
     "output_type": "stream",
     "text": [
      "[Parallel(n_jobs=3)]: Using backend LokyBackend with 3 concurrent workers.\n",
      "[Parallel(n_jobs=3)]: Done   5 out of   5 | elapsed:    3.9s finished\n"
     ]
    },
    {
     "name": "stdout",
     "output_type": "stream",
     "text": [
      "{'learning_rate': 0.1, 'n_estimators': 70}\n",
      "Fitting 5 folds for each of 1 candidates, totalling 5 fits\n"
     ]
    },
    {
     "name": "stderr",
     "output_type": "stream",
     "text": [
      "[Parallel(n_jobs=3)]: Using backend LokyBackend with 3 concurrent workers.\n",
      "[Parallel(n_jobs=3)]: Done   5 out of   5 | elapsed:    3.5s finished\n"
     ]
    },
    {
     "name": "stdout",
     "output_type": "stream",
     "text": [
      "Fitting 5 folds for each of 1 candidates, totalling 5 fits\n"
     ]
    },
    {
     "name": "stderr",
     "output_type": "stream",
     "text": [
      "[Parallel(n_jobs=3)]: Using backend LokyBackend with 3 concurrent workers.\n",
      "[Parallel(n_jobs=3)]: Done   5 out of   5 | elapsed:    3.3s finished\n"
     ]
    },
    {
     "name": "stdout",
     "output_type": "stream",
     "text": [
      "Fitting 5 folds for each of 1 candidates, totalling 5 fits\n"
     ]
    },
    {
     "name": "stderr",
     "output_type": "stream",
     "text": [
      "[Parallel(n_jobs=3)]: Using backend LokyBackend with 3 concurrent workers.\n",
      "[Parallel(n_jobs=3)]: Done   5 out of   5 | elapsed:    3.1s finished\n"
     ]
    },
    {
     "name": "stdout",
     "output_type": "stream",
     "text": [
      "Fitting 5 folds for each of 1 candidates, totalling 5 fits\n"
     ]
    },
    {
     "name": "stderr",
     "output_type": "stream",
     "text": [
      "[Parallel(n_jobs=3)]: Using backend LokyBackend with 3 concurrent workers.\n",
      "[Parallel(n_jobs=3)]: Done   5 out of   5 | elapsed:    3.2s finished\n"
     ]
    },
    {
     "name": "stdout",
     "output_type": "stream",
     "text": [
      "Fitting 5 folds for each of 1 candidates, totalling 5 fits\n"
     ]
    },
    {
     "name": "stderr",
     "output_type": "stream",
     "text": [
      "[Parallel(n_jobs=3)]: Using backend LokyBackend with 3 concurrent workers.\n",
      "[Parallel(n_jobs=3)]: Done   5 out of   5 | elapsed:    3.2s finished\n"
     ]
    },
    {
     "name": "stdout",
     "output_type": "stream",
     "text": [
      "Accuracy of Optimizaed_Train Dataset : 0.79 (+/- 0.02)\n",
      "Validation Optimizaed_Model Accuracy Score: 0.8133333333333334\n",
      "[[127  32]\n",
      " [ 24 117]]\n",
      "Optimized_Model Performance\n",
      "              precision    recall  f1-score   support\n",
      "\n",
      "           1       0.84      0.80      0.82       159\n",
      "           2       0.79      0.83      0.81       141\n",
      "\n",
      "    accuracy                           0.81       300\n",
      "   macro avg       0.81      0.81      0.81       300\n",
      "weighted avg       0.81      0.81      0.81       300\n",
      "\n",
      "****************************\n"
     ]
    },
    {
     "data": {
      "image/png": "[encoded data removed]",
      "text/plain": [
       "<Figure size 432x288 with 1 Axes>"
      ]
     },
     "metadata": {
      "needs_background": "light"
     },
     "output_type": "display_data"
    }
   ],
   "source": [
    "x_train, x_test, y_train, y_test = train_test_split(data, df[\"label\"].tolist(), test_size=0.15)\n",
    "\n",
    "DF_report,report=modelling(x_train,y_train,x_test,y_test)"
   ]
  },
  {
   "cell_type": "markdown",
   "metadata": {},
   "source": [
    "# 5. Final Report"
   ]
  },
  {
   "cell_type": "code",
   "execution_count": 8,
   "metadata": {},
   "outputs": [
    {
     "data": {
      "text/html": [
       "<div>\n",
       "<style scoped>\n",
       "    .dataframe tbody tr th:only-of-type {\n",
       "        vertical-align: middle;\n",
       "    }\n",
       "\n",
       "    .dataframe tbody tr th {\n",
       "        vertical-align: top;\n",
       "    }\n",
       "\n",
       "    .dataframe thead th {\n",
       "        text-align: right;\n",
       "    }\n",
       "</style>\n",
       "<table border=\"1\" class=\"dataframe\">\n",
       "  <thead>\n",
       "    <tr style=\"text-align: right;\">\n",
       "      <th></th>\n",
       "      <th>classifiers</th>\n",
       "      <th>Model_ACC</th>\n",
       "      <th>Model_validation_ACC</th>\n",
       "      <th>Optimized_ACC</th>\n",
       "      <th>Improvment</th>\n",
       "    </tr>\n",
       "  </thead>\n",
       "  <tbody>\n",
       "    <tr>\n",
       "      <th>0</th>\n",
       "      <td>Logistic_Regression</td>\n",
       "      <td>0.854118</td>\n",
       "      <td>0.876667</td>\n",
       "      <td>0.852941</td>\n",
       "      <td>-0.001176</td>\n",
       "    </tr>\n",
       "    <tr>\n",
       "      <th>5</th>\n",
       "      <td>SVM</td>\n",
       "      <td>0.851765</td>\n",
       "      <td>0.880000</td>\n",
       "      <td>0.848235</td>\n",
       "      <td>-0.003529</td>\n",
       "    </tr>\n",
       "    <tr>\n",
       "      <th>8</th>\n",
       "      <td>HistGradientBoostingClassifier</td>\n",
       "      <td>0.848824</td>\n",
       "      <td>0.860000</td>\n",
       "      <td>0.847647</td>\n",
       "      <td>-0.001176</td>\n",
       "    </tr>\n",
       "    <tr>\n",
       "      <th>3</th>\n",
       "      <td>XGB Classifier</td>\n",
       "      <td>0.842941</td>\n",
       "      <td>0.863333</td>\n",
       "      <td>0.857647</td>\n",
       "      <td>0.014706</td>\n",
       "    </tr>\n",
       "    <tr>\n",
       "      <th>2</th>\n",
       "      <td>Gradient BoostingClassifier</td>\n",
       "      <td>0.833529</td>\n",
       "      <td>0.856667</td>\n",
       "      <td>0.854118</td>\n",
       "      <td>0.020588</td>\n",
       "    </tr>\n",
       "    <tr>\n",
       "      <th>4</th>\n",
       "      <td>Random_Forest_Classifier</td>\n",
       "      <td>0.833529</td>\n",
       "      <td>0.840000</td>\n",
       "      <td>0.715294</td>\n",
       "      <td>-0.118235</td>\n",
       "    </tr>\n",
       "    <tr>\n",
       "      <th>9</th>\n",
       "      <td>Adaboost</td>\n",
       "      <td>0.820588</td>\n",
       "      <td>0.840000</td>\n",
       "      <td>0.792941</td>\n",
       "      <td>-0.027647</td>\n",
       "    </tr>\n",
       "    <tr>\n",
       "      <th>1</th>\n",
       "      <td>SGD Classifier</td>\n",
       "      <td>0.811765</td>\n",
       "      <td>0.830000</td>\n",
       "      <td>0.845294</td>\n",
       "      <td>0.033529</td>\n",
       "    </tr>\n",
       "    <tr>\n",
       "      <th>7</th>\n",
       "      <td>Decision_Tree</td>\n",
       "      <td>0.705882</td>\n",
       "      <td>0.736667</td>\n",
       "      <td>0.544118</td>\n",
       "      <td>-0.161765</td>\n",
       "    </tr>\n",
       "    <tr>\n",
       "      <th>6</th>\n",
       "      <td>KNN</td>\n",
       "      <td>0.581176</td>\n",
       "      <td>0.570000</td>\n",
       "      <td>0.648235</td>\n",
       "      <td>0.067059</td>\n",
       "    </tr>\n",
       "  </tbody>\n",
       "</table>\n",
       "</div>"
      ],
      "text/plain": [
       "                      classifiers  Model_ACC  Model_validation_ACC  \\\n",
       "0             Logistic_Regression   0.854118              0.876667   \n",
       "5                             SVM   0.851765              0.880000   \n",
       "8  HistGradientBoostingClassifier   0.848824              0.860000   \n",
       "3                  XGB Classifier   0.842941              0.863333   \n",
       "2     Gradient BoostingClassifier   0.833529              0.856667   \n",
       "4        Random_Forest_Classifier   0.833529              0.840000   \n",
       "9                        Adaboost   0.820588              0.840000   \n",
       "1                  SGD Classifier   0.811765              0.830000   \n",
       "7                   Decision_Tree   0.705882              0.736667   \n",
       "6                             KNN   0.581176              0.570000   \n",
       "\n",
       "   Optimized_ACC  Improvment  \n",
       "0       0.852941   -0.001176  \n",
       "5       0.848235   -0.003529  \n",
       "8       0.847647   -0.001176  \n",
       "3       0.857647    0.014706  \n",
       "2       0.854118    0.020588  \n",
       "4       0.715294   -0.118235  \n",
       "9       0.792941   -0.027647  \n",
       "1       0.845294    0.033529  \n",
       "7       0.544118   -0.161765  \n",
       "6       0.648235    0.067059  "
      ]
     },
     "execution_count": 8,
     "metadata": {},
     "output_type": "execute_result"
    }
   ],
   "source": [
    "\n",
    "DF_report"
   ]
  },
  {
   "cell_type": "markdown",
   "metadata": {},
   "source": [
    "# 6. API Report:"
   ]
  },
  {
   "cell_type": "code",
   "execution_count": 14,
   "metadata": {},
   "outputs": [
    {
     "data": {
      "text/plain": [
       "{'Logistic_Regression': {'Original_model_Train_Acc': 0.8541176470588235,\n",
       "  'Original_model_Test_Acc': 0.8766666666666667,\n",
       "  'Original_model_CM': [array([[139,  20],\n",
       "          [ 17, 124]], dtype=int64)],\n",
       "  'Original_model_Report': ['              precision    recall  f1-score   support\\n\\n           1       0.89      0.87      0.88       159\\n           2       0.86      0.88      0.87       141\\n\\n    accuracy                           0.88       300\\n   macro avg       0.88      0.88      0.88       300\\nweighted avg       0.88      0.88      0.88       300\\n'],\n",
       "  'Optimized_param': {'C': 0.03359818286283781,\n",
       "   'penalty': 'l2',\n",
       "   'solver': 'liblinear'},\n",
       "  'Optimized_model_Train_Acc': 0.8529411764705882,\n",
       "  'Optimized_model_Test_Acc': 0.87,\n",
       "  'Optimized_model_CM': [array([[135,  24],\n",
       "          [ 15, 126]], dtype=int64)],\n",
       "  'Optimized_model_Report': ['              precision    recall  f1-score   support\\n\\n           1       0.90      0.85      0.87       159\\n           2       0.84      0.89      0.87       141\\n\\n    accuracy                           0.87       300\\n   macro avg       0.87      0.87      0.87       300\\nweighted avg       0.87      0.87      0.87       300\\n'],\n",
       "  'Improvement': -0.0011764705882353343},\n",
       " 'SGD Classifier': {'Original_model_Train_Acc': 0.811764705882353,\n",
       "  'Original_model_Test_Acc': 0.83,\n",
       "  'Original_model_CM': [array([[131,  28],\n",
       "          [ 23, 118]], dtype=int64)],\n",
       "  'Original_model_Report': ['              precision    recall  f1-score   support\\n\\n           1       0.85      0.82      0.84       159\\n           2       0.81      0.84      0.82       141\\n\\n    accuracy                           0.83       300\\n   macro avg       0.83      0.83      0.83       300\\nweighted avg       0.83      0.83      0.83       300\\n'],\n",
       "  'Optimized_param': {'alpha': 0.01, 'n_jobs': -1, 'penalty': 'l2'},\n",
       "  'Optimized_model_Train_Acc': 0.8452941176470589,\n",
       "  'Optimized_model_Test_Acc': 0.8666666666666667,\n",
       "  'Optimized_model_CM': [array([[134,  25],\n",
       "          [ 15, 126]], dtype=int64)],\n",
       "  'Optimized_model_Report': ['              precision    recall  f1-score   support\\n\\n           1       0.90      0.84      0.87       159\\n           2       0.83      0.89      0.86       141\\n\\n    accuracy                           0.87       300\\n   macro avg       0.87      0.87      0.87       300\\nweighted avg       0.87      0.87      0.87       300\\n'],\n",
       "  'Improvement': 0.03352941176470581},\n",
       " 'Gradient BoostingClassifier': {'Original_model_Train_Acc': 0.833529411764706,\n",
       "  'Original_model_Test_Acc': 0.8566666666666667,\n",
       "  'Original_model_CM': [array([[135,  24],\n",
       "          [ 19, 122]], dtype=int64)],\n",
       "  'Original_model_Report': ['              precision    recall  f1-score   support\\n\\n           1       0.88      0.85      0.86       159\\n           2       0.84      0.87      0.85       141\\n\\n    accuracy                           0.86       300\\n   macro avg       0.86      0.86      0.86       300\\nweighted avg       0.86      0.86      0.86       300\\n'],\n",
       "  'Optimized_param': {'learning_rate': 0.15, 'n_estimators': 250},\n",
       "  'Optimized_model_Train_Acc': 0.8541176470588235,\n",
       "  'Optimized_model_Test_Acc': 0.8633333333333333,\n",
       "  'Optimized_model_CM': [array([[135,  24],\n",
       "          [ 17, 124]], dtype=int64)],\n",
       "  'Optimized_model_Report': ['              precision    recall  f1-score   support\\n\\n           1       0.89      0.85      0.87       159\\n           2       0.84      0.88      0.86       141\\n\\n    accuracy                           0.86       300\\n   macro avg       0.86      0.86      0.86       300\\nweighted avg       0.86      0.86      0.86       300\\n'],\n",
       "  'Improvement': 0.020588235294117574},\n",
       " 'XGB Classifier': {'Original_model_Train_Acc': 0.8429411764705883,\n",
       "  'Original_model_Test_Acc': 0.8633333333333333,\n",
       "  'Original_model_CM': [array([[135,  24],\n",
       "          [ 17, 124]], dtype=int64)],\n",
       "  'Original_model_Report': ['              precision    recall  f1-score   support\\n\\n           1       0.89      0.85      0.87       159\\n           2       0.84      0.88      0.86       141\\n\\n    accuracy                           0.86       300\\n   macro avg       0.86      0.86      0.86       300\\nweighted avg       0.86      0.86      0.86       300\\n'],\n",
       "  'Optimized_param': {'colsample_bytree': 0.3,\n",
       "   'gamma': 0.1,\n",
       "   'learning_rate': 0.2,\n",
       "   'max_depth': 10,\n",
       "   'min_child_weight': 3},\n",
       "  'Optimized_model_Train_Acc': 0.8576470588235294,\n",
       "  'Optimized_model_Test_Acc': 0.85,\n",
       "  'Optimized_model_CM': [array([[140,  19],\n",
       "          [ 26, 115]], dtype=int64)],\n",
       "  'Optimized_model_Report': ['              precision    recall  f1-score   support\\n\\n           1       0.84      0.88      0.86       159\\n           2       0.86      0.82      0.84       141\\n\\n    accuracy                           0.85       300\\n   macro avg       0.85      0.85      0.85       300\\nweighted avg       0.85      0.85      0.85       300\\n'],\n",
       "  'Improvement': 0.014705882352941124},\n",
       " 'Random_Forest_Classifier': {'Original_model_Train_Acc': 0.8335294117647057,\n",
       "  'Original_model_Test_Acc': 0.84,\n",
       "  'Original_model_CM': [array([[137,  22],\n",
       "          [ 26, 115]], dtype=int64)],\n",
       "  'Original_model_Report': ['              precision    recall  f1-score   support\\n\\n           1       0.84      0.86      0.85       159\\n           2       0.84      0.82      0.83       141\\n\\n    accuracy                           0.84       300\\n   macro avg       0.84      0.84      0.84       300\\nweighted avg       0.84      0.84      0.84       300\\n'],\n",
       "  'Optimized_param': {'ccp_alpha': 0.1,\n",
       "   'class_weight': 'balanced_subsample',\n",
       "   'criterion': 'gini',\n",
       "   'max_depth': 8,\n",
       "   'max_features': 'auto',\n",
       "   'n_estimators': 500},\n",
       "  'Optimized_model_Train_Acc': 0.7152941176470589,\n",
       "  'Optimized_model_Test_Acc': 0.7666666666666667,\n",
       "  'Optimized_model_CM': [array([[119,  40],\n",
       "          [ 30, 111]], dtype=int64)],\n",
       "  'Optimized_model_Report': ['              precision    recall  f1-score   support\\n\\n           1       0.80      0.75      0.77       159\\n           2       0.74      0.79      0.76       141\\n\\n    accuracy                           0.77       300\\n   macro avg       0.77      0.77      0.77       300\\nweighted avg       0.77      0.77      0.77       300\\n'],\n",
       "  'Improvement': -0.11823529411764688},\n",
       " 'SVM': {'Original_model_Train_Acc': 0.851764705882353,\n",
       "  'Original_model_Test_Acc': 0.88,\n",
       "  'Original_model_CM': [array([[139,  20],\n",
       "          [ 16, 125]], dtype=int64)],\n",
       "  'Original_model_Report': ['              precision    recall  f1-score   support\\n\\n           1       0.90      0.87      0.89       159\\n           2       0.86      0.89      0.87       141\\n\\n    accuracy                           0.88       300\\n   macro avg       0.88      0.88      0.88       300\\nweighted avg       0.88      0.88      0.88       300\\n'],\n",
       "  'Optimized_param': {'loss': 'hinge', 'penalty': 'l2'},\n",
       "  'Optimized_model_Train_Acc': 0.8482352941176471,\n",
       "  'Optimized_model_Test_Acc': 0.8666666666666667,\n",
       "  'Optimized_model_CM': [array([[139,  20],\n",
       "          [ 20, 121]], dtype=int64)],\n",
       "  'Optimized_model_Report': ['              precision    recall  f1-score   support\\n\\n           1       0.87      0.87      0.87       159\\n           2       0.86      0.86      0.86       141\\n\\n    accuracy                           0.87       300\\n   macro avg       0.87      0.87      0.87       300\\nweighted avg       0.87      0.87      0.87       300\\n'],\n",
       "  'Improvement': -0.003529411764705892},\n",
       " 'KNN': {'Original_model_Train_Acc': 0.5811764705882353,\n",
       "  'Original_model_Test_Acc': 0.57,\n",
       "  'Original_model_CM': [array([[ 31, 128],\n",
       "          [  1, 140]], dtype=int64)],\n",
       "  'Original_model_Report': ['              precision    recall  f1-score   support\\n\\n           1       0.97      0.19      0.32       159\\n           2       0.52      0.99      0.68       141\\n\\n    accuracy                           0.57       300\\n   macro avg       0.75      0.59      0.50       300\\nweighted avg       0.76      0.57      0.49       300\\n'],\n",
       "  'Optimized_param': {'algorithm': 'auto',\n",
       "   'leaf_size': 1,\n",
       "   'metric': 'euclidean',\n",
       "   'n_neighbors': 2,\n",
       "   'weights': 'distance'},\n",
       "  'Optimized_model_Train_Acc': 0.648235294117647,\n",
       "  'Optimized_model_Test_Acc': 0.6733333333333333,\n",
       "  'Optimized_model_CM': [array([[ 67,  92],\n",
       "          [  6, 135]], dtype=int64)],\n",
       "  'Optimized_model_Report': ['              precision    recall  f1-score   support\\n\\n           1       0.92      0.42      0.58       159\\n           2       0.59      0.96      0.73       141\\n\\n    accuracy                           0.67       300\\n   macro avg       0.76      0.69      0.66       300\\nweighted avg       0.77      0.67      0.65       300\\n'],\n",
       "  'Improvement': 0.06705882352941173},\n",
       " 'Decision_Tree': {'Original_model_Train_Acc': 0.7058823529411764,\n",
       "  'Original_model_Test_Acc': 0.7366666666666667,\n",
       "  'Original_model_CM': [array([[116,  43],\n",
       "          [ 36, 105]], dtype=int64)],\n",
       "  'Original_model_Report': ['              precision    recall  f1-score   support\\n\\n           1       0.76      0.73      0.75       159\\n           2       0.71      0.74      0.73       141\\n\\n    accuracy                           0.74       300\\n   macro avg       0.74      0.74      0.74       300\\nweighted avg       0.74      0.74      0.74       300\\n'],\n",
       "  'Optimized_param': {'ccp_alpha': 0.1, 'criterion': 'gini', 'max_depth': 6},\n",
       "  'Optimized_model_Train_Acc': 0.5441176470588236,\n",
       "  'Optimized_model_Test_Acc': 0.47,\n",
       "  'Optimized_model_CM': [array([[  0, 159],\n",
       "          [  0, 141]], dtype=int64)],\n",
       "  'Optimized_model_Report': ['              precision    recall  f1-score   support\\n\\n           1       0.00      0.00      0.00       159\\n           2       0.47      1.00      0.64       141\\n\\n    accuracy                           0.47       300\\n   macro avg       0.23      0.50      0.32       300\\nweighted avg       0.22      0.47      0.30       300\\n'],\n",
       "  'Improvement': -0.1617647058823528},\n",
       " 'HistGradientBoostingClassifier': {'Original_model_Train_Acc': 0.8488235294117648,\n",
       "  'Original_model_Test_Acc': 0.86,\n",
       "  'Original_model_CM': [array([[136,  23],\n",
       "          [ 19, 122]], dtype=int64)],\n",
       "  'Original_model_Report': ['              precision    recall  f1-score   support\\n\\n           1       0.88      0.86      0.87       159\\n           2       0.84      0.87      0.85       141\\n\\n    accuracy                           0.86       300\\n   macro avg       0.86      0.86      0.86       300\\nweighted avg       0.86      0.86      0.86       300\\n'],\n",
       "  'Optimized_param': {'l2_regularization': 0.1, 'loss': 'binary_crossentropy'},\n",
       "  'Optimized_model_Train_Acc': 0.8476470588235294,\n",
       "  'Optimized_model_Test_Acc': 0.8733333333333333,\n",
       "  'Optimized_model_CM': [array([[140,  19],\n",
       "          [ 19, 122]], dtype=int64)],\n",
       "  'Optimized_model_Report': ['              precision    recall  f1-score   support\\n\\n           1       0.88      0.88      0.88       159\\n           2       0.87      0.87      0.87       141\\n\\n    accuracy                           0.87       300\\n   macro avg       0.87      0.87      0.87       300\\nweighted avg       0.87      0.87      0.87       300\\n'],\n",
       "  'Improvement': -0.0011764705882353343},\n",
       " 'Adaboost': {'Original_model_Train_Acc': 0.8205882352941177,\n",
       "  'Original_model_Test_Acc': 0.84,\n",
       "  'Original_model_CM': [array([[137,  22],\n",
       "          [ 26, 115]], dtype=int64)],\n",
       "  'Original_model_Report': ['              precision    recall  f1-score   support\\n\\n           1       0.84      0.86      0.85       159\\n           2       0.84      0.82      0.83       141\\n\\n    accuracy                           0.84       300\\n   macro avg       0.84      0.84      0.84       300\\nweighted avg       0.84      0.84      0.84       300\\n'],\n",
       "  'Optimized_param': {'learning_rate': 0.1, 'n_estimators': 70},\n",
       "  'Optimized_model_Train_Acc': 0.7929411764705883,\n",
       "  'Optimized_model_Test_Acc': 0.8133333333333334,\n",
       "  'Optimized_model_CM': [array([[127,  32],\n",
       "          [ 24, 117]], dtype=int64)],\n",
       "  'Optimized_model_Report': ['              precision    recall  f1-score   support\\n\\n           1       0.84      0.80      0.82       159\\n           2       0.79      0.83      0.81       141\\n\\n    accuracy                           0.81       300\\n   macro avg       0.81      0.81      0.81       300\\nweighted avg       0.81      0.81      0.81       300\\n'],\n",
       "  'Improvement': -0.02764705882352947}}"
      ]
     },
     "execution_count": 14,
     "metadata": {},
     "output_type": "execute_result"
    }
   ],
   "source": [
    "report"
   ]
  }
 ],
 "metadata": {
  "kernelspec": {
   "display_name": "Python 3",
   "language": "python",
   "name": "python3"
  },
  "language_info": {
   "codemirror_mode": {
    "name": "ipython",
    "version": 3
   },
   "file_extension": ".py",
   "mimetype": "text/x-python",
   "name": "python",
   "nbconvert_exporter": "python",
   "pygments_lexer": "ipython3",
   "version": "3.7.6"
  }
 },
 "nbformat": 4,
 "nbformat_minor": 4
}
