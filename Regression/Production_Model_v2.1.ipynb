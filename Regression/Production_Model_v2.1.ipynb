{
 "cells": [
  {
   "cell_type": "markdown",
   "metadata": {},
   "source": [
    "# Production \n",
    "## <div align: center > Real time analysis using the Best selected model</div>\n"
   ]
  },
  {
   "cell_type": "markdown",
   "metadata": {},
   "source": [
    "#### 1. Requirments :"
   ]
  },
  {
   "cell_type": "code",
   "execution_count": 3,
   "metadata": {},
   "outputs": [
    {
     "name": "stderr",
     "output_type": "stream",
     "text": [
      "Using TensorFlow backend.\n"
     ]
    }
   ],
   "source": [
    "import sys\n",
    "import warnings\n",
    "\n",
    "if not sys.warnoptions:\n",
    "    warnings.simplefilter(\"ignore\")\n",
    "import numpy as np    \n",
    "from ipyfilechooser import FileChooser\n",
    "\n",
    "from tensorflow.keras.preprocessing.image import ImageDataGenerator\n",
    "from tensorflow.keras.preprocessing.image import img_to_array\n",
    "from tensorflow.keras.preprocessing.image import load_img\n",
    "from keras.preprocessing import image\n",
    "\n",
    "import pickle\n",
    "report_dic={2:\"Labradoodle\",1:'Fried Chicken',3:\"cookie\"} # Image class labels"
   ]
  },
  {
   "cell_type": "markdown",
   "metadata": {},
   "source": [
    "#### 2. Functions :"
   ]
  },
  {
   "cell_type": "code",
   "execution_count": 4,
   "metadata": {},
   "outputs": [],
   "source": [
    "\n",
    "def read_image(IMAGE,PLOT=0):\n",
    "    #img = Image.open(IMAGE).convert('L')#convert to grayscale\n",
    "    #img = load_img(IMAGE, target_size=(128, 128,)).convert('L')\n",
    "    img = load_img(IMAGE, target_size=(64, 64,3))\n",
    "\n",
    "    #img= img_to_array(img)\n",
    "    \n",
    "    img = np.array(img)\n",
    "    img=img/255\n",
    "    # plot the image\n",
    "    if PLOT ==1:\n",
    "        image_plot(img)\n",
    "    \n",
    "    \n",
    "    #return img\n",
    "    img = img.flatten()\n",
    "    img=img.reshape(1,len(img))\n",
    "    print(img.shape)\n",
    "    img=pca_component(img)\n",
    "    \n",
    "    model_predict(img)\n",
    "    \n",
    "def pca_component(data):\n",
    "    components = pca.transform(data)\n",
    "    return components\n",
    "\n",
    "def model_predict(data):\n",
    "    #print(report_dic[])\n",
    "    print(model.predict(data))\n",
    "    print(\"Detected Image : \",report_dic[model.predict(data)[0]])"
   ]
  },
  {
   "cell_type": "markdown",
   "metadata": {},
   "source": [
    "#### 3. Loading the Models: \n",
    "###### (Clf and PCA) "
   ]
  },
  {
   "cell_type": "code",
   "execution_count": 5,
   "metadata": {},
   "outputs": [],
   "source": [
    "#loading models:\n",
    "tem= open('./model.pkl','rb')\n",
    "model = pickle.load(tem)\n",
    "tem= open('./pca.pkl','rb')\n",
    "pca = pickle.load(tem)\n",
    "tem.close()\n"
   ]
  },
  {
   "cell_type": "markdown",
   "metadata": {},
   "source": [
    "#### 4. Loading the Image: "
   ]
  },
  {
   "cell_type": "code",
   "execution_count": 8,
   "metadata": {},
   "outputs": [
    {
     "data": {
      "application/vnd.jupyter.widget-view+json": {
       "model_id": "e86d0faac615430a8c6d16286127e0c0",
       "version_major": 2,
       "version_minor": 0
      },
      "text/plain": [
       "FileChooser(path='./', filename='', show_hidden='False')"
      ]
     },
     "metadata": {},
     "output_type": "display_data"
    }
   ],
   "source": [
    "fc = FileChooser('./')\n",
    "display(fc)"
   ]
  },
  {
   "cell_type": "markdown",
   "metadata": {},
   "source": [
    "#### 5. Image Classification using the classifier: "
   ]
  },
  {
   "cell_type": "code",
   "execution_count": 9,
   "metadata": {},
   "outputs": [
    {
     "name": "stdout",
     "output_type": "stream",
     "text": [
      "(1, 12288)\n",
      "[2]\n",
      "Detected Image :  Labradoodle\n"
     ]
    }
   ],
   "source": [
    "read_image(fc.selected_path+\"/\"+fc.selected_filename,PLOT=0)"
   ]
  }
 ],
 "metadata": {
  "kernelspec": {
   "display_name": "Python 3",
   "language": "python",
   "name": "python3"
  },
  "language_info": {
   "codemirror_mode": {
    "name": "ipython",
    "version": 3
   },
   "file_extension": ".py",
   "mimetype": "text/x-python",
   "name": "python",
   "nbconvert_exporter": "python",
   "pygments_lexer": "ipython3",
   "version": "3.7.6"
  }
 },
 "nbformat": 4,
 "nbformat_minor": 4
}
